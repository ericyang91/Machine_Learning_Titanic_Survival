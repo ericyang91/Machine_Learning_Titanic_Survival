{
 "cells": [
  {
   "cell_type": "code",
   "execution_count": 3,
   "id": "c6a55432",
   "metadata": {},
   "outputs": [],
   "source": [
    "from pathlib import Path\n",
    "Path(\"Resources/titanic_data.sqlite\").touch()"
   ]
  },
  {
   "cell_type": "code",
   "execution_count": 4,
   "id": "f296eaad",
   "metadata": {},
   "outputs": [
    {
     "name": "stdout",
     "output_type": "stream",
     "text": [
      "Opened database successfully\n"
     ]
    }
   ],
   "source": [
    "#!/usr/bin/python\n",
    "\n",
    "import sqlite3\n",
    "\n",
    "conn = sqlite3.connect('Resources/titanic_data.sqlite')\n",
    "\n",
    "print(\"Opened database successfully\")\n",
    "\n",
    "c = conn.cursor()"
   ]
  },
  {
   "cell_type": "code",
   "execution_count": 6,
   "id": "35b30b33",
   "metadata": {},
   "outputs": [
    {
     "data": {
      "text/plain": [
       "<sqlite3.Cursor at 0x203a9a11340>"
      ]
     },
     "execution_count": 6,
     "metadata": {},
     "output_type": "execute_result"
    }
   ],
   "source": [
    "c.execute( '''CREATE TABLE titanic_data \n",
    "              (pclass int, \n",
    "               survived int, \n",
    "               name text, \n",
    "               sex text, \n",
    "               age double, \n",
    "               sibsp int, \n",
    "               parch int, \n",
    "               ticket int,\n",
    "               fare double,\n",
    "               cabin text,\n",
    "               embarked text,\n",
    "               boat int,\n",
    "               body double,\n",
    "               PRIMARY KEY (Name, ticket)) ''' )\n",
    "\n"
   ]
  },
  {
   "cell_type": "code",
   "execution_count": 7,
   "id": "23ce9335",
   "metadata": {},
   "outputs": [
    {
     "data": {
      "text/plain": [
       "Index(['pclass', 'survived', 'name', 'sex', 'age', 'sibsp', 'parch', 'ticket',\n",
       "       'fare', 'cabin', 'embarked', 'boat', 'body'],\n",
       "      dtype='object')"
      ]
     },
     "execution_count": 7,
     "metadata": {},
     "output_type": "execute_result"
    }
   ],
   "source": [
    "import pandas as pd\n",
    "\n",
    "table1 = pd.read_csv(\"Resources/raw_dataset.csv\")\n",
    "\n",
    "table1.columns"
   ]
  },
  {
   "cell_type": "code",
   "execution_count": 8,
   "id": "d27d21f5",
   "metadata": {},
   "outputs": [
    {
     "data": {
      "text/html": [
       "<div>\n",
       "<style scoped>\n",
       "    .dataframe tbody tr th:only-of-type {\n",
       "        vertical-align: middle;\n",
       "    }\n",
       "\n",
       "    .dataframe tbody tr th {\n",
       "        vertical-align: top;\n",
       "    }\n",
       "\n",
       "    .dataframe thead th {\n",
       "        text-align: right;\n",
       "    }\n",
       "</style>\n",
       "<table border=\"1\" class=\"dataframe\">\n",
       "  <thead>\n",
       "    <tr style=\"text-align: right;\">\n",
       "      <th></th>\n",
       "      <th>pclass</th>\n",
       "      <th>survived</th>\n",
       "      <th>name</th>\n",
       "      <th>sex</th>\n",
       "      <th>age</th>\n",
       "      <th>sibsp</th>\n",
       "      <th>parch</th>\n",
       "      <th>ticket</th>\n",
       "      <th>fare</th>\n",
       "      <th>cabin</th>\n",
       "      <th>embarked</th>\n",
       "      <th>boat</th>\n",
       "      <th>body</th>\n",
       "    </tr>\n",
       "  </thead>\n",
       "  <tbody>\n",
       "    <tr>\n",
       "      <th>0</th>\n",
       "      <td>1</td>\n",
       "      <td>1</td>\n",
       "      <td>Allen. Miss. Elisabeth Walton</td>\n",
       "      <td>female</td>\n",
       "      <td>29.0000</td>\n",
       "      <td>0</td>\n",
       "      <td>0</td>\n",
       "      <td>24160</td>\n",
       "      <td>211.3375</td>\n",
       "      <td>B5</td>\n",
       "      <td>S</td>\n",
       "      <td>2</td>\n",
       "      <td>NaN</td>\n",
       "    </tr>\n",
       "    <tr>\n",
       "      <th>1</th>\n",
       "      <td>1</td>\n",
       "      <td>1</td>\n",
       "      <td>Allison. Master. Hudson Trevor</td>\n",
       "      <td>male</td>\n",
       "      <td>0.9167</td>\n",
       "      <td>1</td>\n",
       "      <td>2</td>\n",
       "      <td>113781</td>\n",
       "      <td>151.5500</td>\n",
       "      <td>C22 C26</td>\n",
       "      <td>S</td>\n",
       "      <td>11</td>\n",
       "      <td>NaN</td>\n",
       "    </tr>\n",
       "    <tr>\n",
       "      <th>2</th>\n",
       "      <td>1</td>\n",
       "      <td>0</td>\n",
       "      <td>Allison. Miss. Helen Loraine</td>\n",
       "      <td>female</td>\n",
       "      <td>2.0000</td>\n",
       "      <td>1</td>\n",
       "      <td>2</td>\n",
       "      <td>113781</td>\n",
       "      <td>151.5500</td>\n",
       "      <td>C22 C26</td>\n",
       "      <td>S</td>\n",
       "      <td>NaN</td>\n",
       "      <td>NaN</td>\n",
       "    </tr>\n",
       "    <tr>\n",
       "      <th>3</th>\n",
       "      <td>1</td>\n",
       "      <td>0</td>\n",
       "      <td>Allison. Mr. Hudson Joshua Creighton</td>\n",
       "      <td>male</td>\n",
       "      <td>30.0000</td>\n",
       "      <td>1</td>\n",
       "      <td>2</td>\n",
       "      <td>113781</td>\n",
       "      <td>151.5500</td>\n",
       "      <td>C22 C26</td>\n",
       "      <td>S</td>\n",
       "      <td>NaN</td>\n",
       "      <td>135.0</td>\n",
       "    </tr>\n",
       "    <tr>\n",
       "      <th>4</th>\n",
       "      <td>1</td>\n",
       "      <td>0</td>\n",
       "      <td>Allison. Mrs. Hudson J C (Bessie Waldo Daniels)</td>\n",
       "      <td>female</td>\n",
       "      <td>25.0000</td>\n",
       "      <td>1</td>\n",
       "      <td>2</td>\n",
       "      <td>113781</td>\n",
       "      <td>151.5500</td>\n",
       "      <td>C22 C26</td>\n",
       "      <td>S</td>\n",
       "      <td>NaN</td>\n",
       "      <td>NaN</td>\n",
       "    </tr>\n",
       "  </tbody>\n",
       "</table>\n",
       "</div>"
      ],
      "text/plain": [
       "   pclass  survived                                             name     sex  \\\n",
       "0       1         1                    Allen. Miss. Elisabeth Walton  female   \n",
       "1       1         1                   Allison. Master. Hudson Trevor    male   \n",
       "2       1         0                     Allison. Miss. Helen Loraine  female   \n",
       "3       1         0             Allison. Mr. Hudson Joshua Creighton    male   \n",
       "4       1         0  Allison. Mrs. Hudson J C (Bessie Waldo Daniels)  female   \n",
       "\n",
       "       age  sibsp  parch  ticket      fare    cabin embarked boat   body  \n",
       "0  29.0000      0      0   24160  211.3375       B5        S    2    NaN  \n",
       "1   0.9167      1      2  113781  151.5500  C22 C26        S   11    NaN  \n",
       "2   2.0000      1      2  113781  151.5500  C22 C26        S  NaN    NaN  \n",
       "3  30.0000      1      2  113781  151.5500  C22 C26        S  NaN  135.0  \n",
       "4  25.0000      1      2  113781  151.5500  C22 C26        S  NaN    NaN  "
      ]
     },
     "execution_count": 8,
     "metadata": {},
     "output_type": "execute_result"
    }
   ],
   "source": [
    "table1.head()\n"
   ]
  },
  {
   "cell_type": "code",
   "execution_count": 9,
   "id": "a9f2759a",
   "metadata": {},
   "outputs": [
    {
     "data": {
      "text/plain": [
       "1309"
      ]
     },
     "execution_count": 9,
     "metadata": {},
     "output_type": "execute_result"
    }
   ],
   "source": [
    "table1.to_sql('titanic_data', conn, if_exists='append', index=False)\n"
   ]
  },
  {
   "cell_type": "code",
   "execution_count": 10,
   "id": "1914d8e8",
   "metadata": {},
   "outputs": [
    {
     "data": {
      "text/plain": [
       "[(1,\n",
       "  1,\n",
       "  'Allen. Miss. Elisabeth Walton',\n",
       "  'female',\n",
       "  29.0,\n",
       "  0,\n",
       "  0,\n",
       "  24160,\n",
       "  211.3375,\n",
       "  'B5',\n",
       "  'S',\n",
       "  2,\n",
       "  None),\n",
       " (1,\n",
       "  1,\n",
       "  'Allison. Master. Hudson Trevor',\n",
       "  'male',\n",
       "  0.9167,\n",
       "  1,\n",
       "  2,\n",
       "  113781,\n",
       "  151.55,\n",
       "  'C22 C26',\n",
       "  'S',\n",
       "  11,\n",
       "  None),\n",
       " (1,\n",
       "  0,\n",
       "  'Allison. Miss. Helen Loraine',\n",
       "  'female',\n",
       "  2.0,\n",
       "  1,\n",
       "  2,\n",
       "  113781,\n",
       "  151.55,\n",
       "  'C22 C26',\n",
       "  'S',\n",
       "  None,\n",
       "  None),\n",
       " (1,\n",
       "  0,\n",
       "  'Allison. Mr. Hudson Joshua Creighton',\n",
       "  'male',\n",
       "  30.0,\n",
       "  1,\n",
       "  2,\n",
       "  113781,\n",
       "  151.55,\n",
       "  'C22 C26',\n",
       "  'S',\n",
       "  None,\n",
       "  135.0),\n",
       " (1,\n",
       "  0,\n",
       "  'Allison. Mrs. Hudson J C (Bessie Waldo Daniels)',\n",
       "  'female',\n",
       "  25.0,\n",
       "  1,\n",
       "  2,\n",
       "  113781,\n",
       "  151.55,\n",
       "  'C22 C26',\n",
       "  'S',\n",
       "  None,\n",
       "  None),\n",
       " (1,\n",
       "  1,\n",
       "  'Anderson. Mr. Harry',\n",
       "  'male',\n",
       "  48.0,\n",
       "  0,\n",
       "  0,\n",
       "  19952,\n",
       "  26.55,\n",
       "  'E12',\n",
       "  'S',\n",
       "  3,\n",
       "  None),\n",
       " (1,\n",
       "  1,\n",
       "  'Andrews. Miss. Kornelia Theodosia',\n",
       "  'female',\n",
       "  63.0,\n",
       "  1,\n",
       "  0,\n",
       "  13502,\n",
       "  77.9583,\n",
       "  'D7',\n",
       "  'S',\n",
       "  10,\n",
       "  None),\n",
       " (1,\n",
       "  0,\n",
       "  'Andrews. Mr. Thomas Jr',\n",
       "  'male',\n",
       "  39.0,\n",
       "  0,\n",
       "  0,\n",
       "  112050,\n",
       "  0.0,\n",
       "  'A36',\n",
       "  'S',\n",
       "  None,\n",
       "  None),\n",
       " (1,\n",
       "  1,\n",
       "  'Appleton. Mrs. Edward Dale (Charlotte Lamson)',\n",
       "  'female',\n",
       "  53.0,\n",
       "  2,\n",
       "  0,\n",
       "  11769,\n",
       "  51.4792,\n",
       "  'C101',\n",
       "  'S',\n",
       "  'D',\n",
       "  None),\n",
       " (1,\n",
       "  0,\n",
       "  'Artagaveytia. Mr. Ramon',\n",
       "  'male',\n",
       "  71.0,\n",
       "  0,\n",
       "  0,\n",
       "  'PC 17609',\n",
       "  49.5042,\n",
       "  None,\n",
       "  'C',\n",
       "  None,\n",
       "  22.0)]"
      ]
     },
     "execution_count": 10,
     "metadata": {},
     "output_type": "execute_result"
    }
   ],
   "source": [
    "c.execute('''SELECT * FROM titanic_data LIMIT 10''').fetchall()\n",
    "\n"
   ]
  },
  {
   "cell_type": "markdown",
   "id": "b59e81c0",
   "metadata": {},
   "source": [
    "### Creating Script for non-relational database"
   ]
  },
  {
   "cell_type": "code",
   "execution_count": 11,
   "id": "63ac0e7d",
   "metadata": {},
   "outputs": [
    {
     "data": {
      "text/plain": [
       "'\"pclass\" : row.pclass,\"survived\" : row.survived,\"name\" : row.name,\"sex\" : row.sex,\"age\" : row.age,\"sibsp\" : row.sibsp,\"parch\" : row.parch,\"ticket\" : row.ticket,\"fare\" : row.fare,\"cabin\" : row.cabin,\"embarked\" : row.embarked,\"boat\" : row.boat,\"body\" : row.body,'"
      ]
     },
     "execution_count": 11,
     "metadata": {},
     "output_type": "execute_result"
    }
   ],
   "source": [
    "text1 = \"\"\n",
    "\n",
    "for i in table1.columns:\n",
    "    text1 += f\"\"\"\"{i}\" : row.{i},\"\"\"\n",
    "\n",
    "text1"
   ]
  }
 ],
 "metadata": {
  "kernelspec": {
   "display_name": "Python 3 (ipykernel)",
   "language": "python",
   "name": "python3"
  },
  "language_info": {
   "codemirror_mode": {
    "name": "ipython",
    "version": 3
   },
   "file_extension": ".py",
   "mimetype": "text/x-python",
   "name": "python",
   "nbconvert_exporter": "python",
   "pygments_lexer": "ipython3",
   "version": "3.9.12"
  }
 },
 "nbformat": 4,
 "nbformat_minor": 5
}
